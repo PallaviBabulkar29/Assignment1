{
  "nbformat": 4,
  "nbformat_minor": 0,
  "metadata": {
    "colab": {
      "provenance": []
    },
    "kernelspec": {
      "name": "python3",
      "display_name": "Python 3"
    },
    "language_info": {
      "name": "python"
    }
  },
  "cells": [
    {
      "cell_type": "markdown",
      "source": [
        "1.What is Python, and why is it popular?\n",
        "  -Python is a programming language which comes under Interpreted\n",
        "programming language.\n",
        "It is popular because as compared to other languages it is easy to learn with lots of inbuild libraries and functions\n",
        "\n"
      ],
      "metadata": {
        "id": "pXz6KgJmbQPl"
      }
    },
    {
      "cell_type": "markdown",
      "source": [
        "2.What is an interpreter in Python?\n",
        "Ans: An Interpreter means everythiing is done in execution only and it is bit slower than the compiled programming language."
      ],
      "metadata": {
        "id": "PSth5_f_WRUm"
      }
    },
    {
      "cell_type": "markdown",
      "source": [
        "3.What are pre-defined keywords in Python?Ans: Pre-definde keywords are the words that are predefined by the python which are used for some specifoc work only for example: if, else, elif, for, while etc"
      ],
      "metadata": {
        "id": "bxIWBAxBW6jG"
      }
    },
    {
      "cell_type": "markdown",
      "source": [
        "4.Can keywords be used as variable names?\n",
        "Ans: NO keywords cannot be used as variable names."
      ],
      "metadata": {
        "id": "_8frPdz_X_-C"
      }
    },
    {
      "cell_type": "markdown",
      "source": [
        "5.What is mutability in Python?\n",
        "Ans: Mutability means the internal state can be changed of the object even after its cration."
      ],
      "metadata": {
        "id": "BnnSFZM6YQt_"
      }
    },
    {
      "cell_type": "markdown",
      "source": [
        "6.Why are lists mutable, but tuples are immutable?\n",
        "Ans:list are mutable because they are build for dynamic storage and tuples are build for fixed storages like location etc"
      ],
      "metadata": {
        "id": "IieDBFK9YubD"
      }
    },
    {
      "cell_type": "markdown",
      "source": [
        "7.What is the difference between “==” and “is” operators in Python?\n",
        "Ans: \"==\"checks whether the values are equal or not while \"is\" operator checks for the exact same values."
      ],
      "metadata": {
        "id": "_-RqQ-xrZ5dk"
      }
    },
    {
      "cell_type": "markdown",
      "source": [
        "8.What are logical operators in Python?\n",
        "Ans: Logical Operators in python are \"AND\",\"OR\",\"NOT\",\"XOR\" and they are used for logical operations\n"
      ],
      "metadata": {
        "id": "JT6wP2KLaifp"
      }
    },
    {
      "cell_type": "markdown",
      "source": [
        "9.What is type casting in Python?\n",
        "Type casting means when we have to change one data type to another to make them compatible."
      ],
      "metadata": {
        "id": "NlevtcfD8Wo3"
      }
    },
    {
      "cell_type": "markdown",
      "source": [
        "10.What is the difference between implicit and explicit type casting?\n",
        "implicit tupe casting is performed by the python interpreter itself and explicit type casting is done by the programmers manually."
      ],
      "metadata": {
        "id": "vEPtB1I18mnQ"
      }
    },
    {
      "cell_type": "markdown",
      "source": [
        "11.What is the purpose of conditional statements in Python?\n",
        "The conditional statements in python works like the real work problems only like if i'll take the bath then i'll go to the temple so in python it helps for giving such conditions."
      ],
      "metadata": {
        "id": "h4Bty_Gm8_et"
      }
    },
    {
      "cell_type": "markdown",
      "source": [
        "12.How does the elif statement work?\n",
        "Elif statement comes under the if else staments and it can come multiple times . its is used for the multiple comditions."
      ],
      "metadata": {
        "id": "ReWv6X0O9bOh"
      }
    },
    {
      "cell_type": "markdown",
      "source": [
        "13.What is the difference between for and while loops?\n",
        "For loop is used when you know how many ties we have to run the look and while loop is used when you have use condition.\n"
      ],
      "metadata": {
        "id": "Xj4AEsz4Oq8Z"
      }
    },
    {
      "cell_type": "markdown",
      "source": [
        "14. Describe a scenario where a while loop is more suitable than a for loop?\n",
        "for login system until a user puts a right statement it will keep repeating enter password."
      ],
      "metadata": {
        "id": "rog-3CwSANk3"
      }
    },
    {
      "cell_type": "code",
      "source": [
        "#Practical Questions\n",
        "#1.Write a Python program to print \"Hello, World!y\n",
        "print(\"Hello World!\")"
      ],
      "metadata": {
        "colab": {
          "base_uri": "https://localhost:8080/"
        },
        "id": "UG5VoNQGOz8u",
        "outputId": "061f0700-2015-4f69-9887-ed579c276781"
      },
      "execution_count": null,
      "outputs": [
        {
          "output_type": "stream",
          "name": "stdout",
          "text": [
            "Hello World!\n"
          ]
        }
      ]
    },
    {
      "cell_type": "code",
      "source": [
        "#2.Write a Python program that displays your name and age\n",
        "Name = \"Pallavi\"\n",
        "age= 21\n",
        "print(\"My name is:\",Name\n",
        "      ,\"My age is:\",age)"
      ],
      "metadata": {
        "colab": {
          "base_uri": "https://localhost:8080/"
        },
        "id": "acP4tUvYPAg1",
        "outputId": "541e30b1-8bef-4345-d4df-c7c49e2ae258"
      },
      "execution_count": null,
      "outputs": [
        {
          "output_type": "stream",
          "name": "stdout",
          "text": [
            "My name is: Pallavi My age is: 21\n"
          ]
        }
      ]
    },
    {
      "cell_type": "code",
      "source": [
        "#3.Write code to print all the pre-defined keywords in Python using the keyword library\n",
        "import keyword\n",
        "print(keyword.kwlist)"
      ],
      "metadata": {
        "colab": {
          "base_uri": "https://localhost:8080/"
        },
        "id": "9Q4dBCMdPf48",
        "outputId": "298decab-305a-4a2e-fa63-fb4c728a47f2"
      },
      "execution_count": null,
      "outputs": [
        {
          "output_type": "stream",
          "name": "stdout",
          "text": [
            "['False', 'None', 'True', 'and', 'as', 'assert', 'async', 'await', 'break', 'class', 'continue', 'def', 'del', 'elif', 'else', 'except', 'finally', 'for', 'from', 'global', 'if', 'import', 'in', 'is', 'lambda', 'nonlocal', 'not', 'or', 'pass', 'raise', 'return', 'try', 'while', 'with', 'yield']\n"
          ]
        }
      ]
    },
    {
      "cell_type": "code",
      "source": [
        "#4.Write a program that checks if a given word is a Python keyword.\n",
        "word = input(\"Enter a word:\")\n",
        "if word in keyword.kwlist:\n",
        "  print(word,\"is a keyword\")\n",
        "else:\n",
        "  print(word,\"is not a keyword\")"
      ],
      "metadata": {
        "colab": {
          "base_uri": "https://localhost:8080/"
        },
        "id": "33qR4B7VQIHn",
        "outputId": "bd66e7b4-58eb-41b6-9c35-46c70f6fedea"
      },
      "execution_count": null,
      "outputs": [
        {
          "output_type": "stream",
          "name": "stdout",
          "text": [
            "Enter a word:hi\n",
            "hi is not a keyword\n"
          ]
        }
      ]
    },
    {
      "cell_type": "code",
      "source": [
        "#5.Create a list and tuple in Python, and demonstrate how attempting to change an element works differently\n",
        "#for each.\n",
        "my_list=[1,2,3]\n",
        "my_tuple=(1,2,3)\n",
        "my_list[2]=20\n",
        "\n",
        "print(my_list)\n",
        "my_tuple[2]=200\n",
        "print(mu_tuple)\n",
        "#here tuple is not changing that means it is immutable and showinfg error"
      ],
      "metadata": {
        "colab": {
          "base_uri": "https://localhost:8080/",
          "height": 211
        },
        "id": "sVb7ZXaNRonr",
        "outputId": "66b7fa40-2f04-4f32-9fd0-00d5d584995e"
      },
      "execution_count": null,
      "outputs": [
        {
          "output_type": "stream",
          "name": "stdout",
          "text": [
            "[1, 2, 20]\n"
          ]
        },
        {
          "output_type": "error",
          "ename": "TypeError",
          "evalue": "'tuple' object does not support item assignment",
          "traceback": [
            "\u001b[0;31m---------------------------------------------------------------------------\u001b[0m",
            "\u001b[0;31mTypeError\u001b[0m                                 Traceback (most recent call last)",
            "\u001b[0;32m<ipython-input-14-9aa237d82164>\u001b[0m in \u001b[0;36m<cell line: 0>\u001b[0;34m()\u001b[0m\n\u001b[1;32m      5\u001b[0m \u001b[0;34m\u001b[0m\u001b[0m\n\u001b[1;32m      6\u001b[0m \u001b[0mprint\u001b[0m\u001b[0;34m(\u001b[0m\u001b[0mmy_list\u001b[0m\u001b[0;34m)\u001b[0m\u001b[0;34m\u001b[0m\u001b[0;34m\u001b[0m\u001b[0m\n\u001b[0;32m----> 7\u001b[0;31m \u001b[0mmy_tuple\u001b[0m\u001b[0;34m[\u001b[0m\u001b[0;36m2\u001b[0m\u001b[0;34m]\u001b[0m\u001b[0;34m=\u001b[0m\u001b[0;36m200\u001b[0m\u001b[0;34m\u001b[0m\u001b[0;34m\u001b[0m\u001b[0m\n\u001b[0m\u001b[1;32m      8\u001b[0m \u001b[0mprint\u001b[0m\u001b[0;34m(\u001b[0m\u001b[0mmu_tuple\u001b[0m\u001b[0;34m)\u001b[0m\u001b[0;34m\u001b[0m\u001b[0;34m\u001b[0m\u001b[0m\n",
            "\u001b[0;31mTypeError\u001b[0m: 'tuple' object does not support item assignment"
          ]
        }
      ]
    },
    {
      "cell_type": "code",
      "source": [
        "#6. Write a function to demonstrate the behavior of mutable and immutable arguments.\n",
        "a=5\n",
        "b=a\n",
        "b+=10\n",
        "print(\"immutable example\")\n",
        "print(\"a=\", a)\n",
        "print(\"b=\", b)\n",
        "\n",
        "list_= [1,2,3]\n",
        "list_.append(5)\n",
        "print(\"mutable example\")\n",
        "print(list_)"
      ],
      "metadata": {
        "colab": {
          "base_uri": "https://localhost:8080/"
        },
        "id": "1Vv7JunvS_mf",
        "outputId": "a21a88c6-7768-40d2-8cee-563bfc53da83"
      },
      "execution_count": null,
      "outputs": [
        {
          "output_type": "stream",
          "name": "stdout",
          "text": [
            "immutable example\n",
            "a= 5\n",
            "b= 15\n",
            "mutable example\n",
            "[1, 2, 3, 5]\n"
          ]
        }
      ]
    },
    {
      "cell_type": "code",
      "source": [
        "#7.Write a program that performs basic arithmetic operations on two user-input numbers'''\n",
        "a=input(\"enter first number\")\n",
        "b=input(\"enter second number\")\n",
        "add=int(a)+int(b)\n",
        "print(\"addition\")\n",
        "print(add)\n",
        "mult= int(a)*int(b)\n",
        "print(\"multiplication\")\n",
        "print(mult)"
      ],
      "metadata": {
        "id": "z1Hyj3aEUvU5",
        "colab": {
          "base_uri": "https://localhost:8080/"
        },
        "outputId": "d718dd34-b4c8-4c28-fe5a-d371302e6e12"
      },
      "execution_count": null,
      "outputs": [
        {
          "output_type": "stream",
          "name": "stdout",
          "text": [
            "enter first number2\n",
            "enter second number4\n",
            "addition\n",
            "6\n",
            "multiplication\n",
            "8\n"
          ]
        }
      ]
    },
    {
      "cell_type": "code",
      "source": [
        "#8.Write a program to demonstrate the use of logical operators.\n",
        "a = True\n",
        "b = False\n",
        "\n",
        "print(\"a and b =\", a and b)\n",
        "print(\"a or b =\", a or b)\n",
        "print(\"not a =\", not a)\n",
        "print(\"not b =\",not b)\n"
      ],
      "metadata": {
        "colab": {
          "base_uri": "https://localhost:8080/"
        },
        "id": "TraPEFONQpai",
        "outputId": "b7d4f590-591a-4232-f7f4-3c650155f61a"
      },
      "execution_count": null,
      "outputs": [
        {
          "output_type": "stream",
          "name": "stdout",
          "text": [
            "a and b = False\n",
            "a or b = True\n",
            "not a = False\n",
            "not b = True\n"
          ]
        }
      ]
    },
    {
      "cell_type": "code",
      "source": [
        "#9.Write a Python program to convert user input from string to integer, float, and boolean types\n",
        "user_input=input(\"enter a value\")\n",
        "int_value=int(user_input)\n",
        "float_value=float(user_input)\n",
        "bool_value=bool(user_input)\n",
        "print(\"integer value:\",int_value)\n",
        "print(\"float value:\",float_value)\n",
        "print(\"boolean value:\",bool_value)\n"
      ],
      "metadata": {
        "colab": {
          "base_uri": "https://localhost:8080/"
        },
        "id": "X34JCDQzThrC",
        "outputId": "9ae3c841-3800-4eda-ebe5-f4c1d5c82312"
      },
      "execution_count": null,
      "outputs": [
        {
          "output_type": "stream",
          "name": "stdout",
          "text": [
            "enter a value55\n",
            "integer value: 55\n",
            "float value: 55.0\n",
            "boolean value: True\n"
          ]
        }
      ]
    },
    {
      "cell_type": "code",
      "source": [
        "#10.Write code to demonstrate type casting with list elements.\n",
        "str_list = ['1', '2', '3', '4']\n",
        "int_list = [int(x) for x in str_list]\n",
        "print(\"Original list:\", str_list)\n",
        "print(\"Converted to integers:\", int_list)\n"
      ],
      "metadata": {
        "id": "tNBZUiKZUyQe"
      },
      "execution_count": null,
      "outputs": []
    },
    {
      "cell_type": "code",
      "source": [
        "#11.Write a program that checks if a number is positive, negative, or zero\n",
        "input_value=int(input(\"enter a number\"))\n",
        "if input_value>0:\n",
        "  print(\"positive no.\")\n",
        "elif input_value<0:\n",
        "  print(\"negative no.\")\n",
        "else :\n",
        "  print(\"zero\")"
      ],
      "metadata": {
        "colab": {
          "base_uri": "https://localhost:8080/"
        },
        "id": "r7gBs_8eVF1I",
        "outputId": "1cedd9ee-9d61-47c7-af0c-69b9bad5417c"
      },
      "execution_count": null,
      "outputs": [
        {
          "output_type": "stream",
          "name": "stdout",
          "text": [
            "enter a number56\n",
            "positive no.\n"
          ]
        }
      ]
    },
    {
      "cell_type": "code",
      "source": [
        "#12.Write a for loop to print numbers from 1 to 10.\n",
        "for i in range(1,11):\n",
        "  print(i)"
      ],
      "metadata": {
        "colab": {
          "base_uri": "https://localhost:8080/"
        },
        "id": "HFVN2-BxR9gS",
        "outputId": "a6e76f17-3c47-4c9b-b387-bfd59dcaf3d6"
      },
      "execution_count": null,
      "outputs": [
        {
          "output_type": "stream",
          "name": "stdout",
          "text": [
            "1\n",
            "2\n",
            "3\n",
            "4\n",
            "5\n",
            "6\n",
            "7\n",
            "8\n",
            "9\n",
            "10\n"
          ]
        }
      ]
    },
    {
      "cell_type": "code",
      "source": [
        " #13.Write a Python program to find the sum of all even numbers between 1 and 50\n",
        "sum_even=0\n",
        " for i in range(2,51,2):\n",
        "  sum_even+=i\n",
        "  print(sum_even)"
      ],
      "metadata": {
        "colab": {
          "base_uri": "https://localhost:8080/"
        },
        "id": "MjIjJPtUTHFL",
        "outputId": "82ede932-581e-4e4a-eab9-f6a1380ee7c8"
      },
      "execution_count": null,
      "outputs": [
        {
          "output_type": "stream",
          "name": "stdout",
          "text": [
            "2\n",
            "6\n",
            "12\n",
            "20\n",
            "30\n",
            "42\n",
            "56\n",
            "72\n",
            "90\n",
            "110\n",
            "132\n",
            "156\n",
            "182\n",
            "210\n",
            "240\n",
            "272\n",
            "306\n",
            "342\n",
            "380\n",
            "420\n",
            "462\n",
            "506\n",
            "552\n",
            "600\n",
            "650\n"
          ]
        }
      ]
    },
    {
      "cell_type": "code",
      "source": [
        "#14.Write a program to reverse a string using a while loop\n",
        "word = input(\"Enter a word: \")\n",
        "rev = \"\"\n",
        "i = len(word) - 1\n",
        "\n",
        "while i >= 0:\n",
        "    rev = rev + word[i]\n",
        "    i = i - 1\n",
        "\n",
        "print(\"Reversed word is:\", rev)\n"
      ],
      "metadata": {
        "id": "LmSjIovIUUtz",
        "colab": {
          "base_uri": "https://localhost:8080/"
        },
        "outputId": "20ac7aac-7dfa-4b21-b39e-583d39a5eb14"
      },
      "execution_count": null,
      "outputs": [
        {
          "output_type": "stream",
          "name": "stdout",
          "text": [
            "Enter a word: hello every ome\n",
            "Reversed word is: emo yreve olleh\n"
          ]
        }
      ]
    },
    {
      "cell_type": "code",
      "source": [
        "#15Write a Python program to calculate the factorial of a number provided by the user using a while loop.\n",
        "num = int(input(\"Enter a number: \"))\n",
        "fact = 1\n",
        "i = 1\n",
        "\n",
        "while i <= num:\n",
        "    fact = fact * i\n",
        "    i = i + 1\n",
        "\n",
        "print(\"Factorial is:\", fact)\n"
      ],
      "metadata": {
        "colab": {
          "base_uri": "https://localhost:8080/"
        },
        "id": "fhW-7zydXwDb",
        "outputId": "442ca5b9-e219-4cb5-beab-462bb5b1d5fa"
      },
      "execution_count": null,
      "outputs": [
        {
          "output_type": "stream",
          "name": "stdout",
          "text": [
            "Enter a number: 5\n",
            "Factorial is: 120\n"
          ]
        }
      ]
    },
    {
      "cell_type": "code",
      "source": [],
      "metadata": {
        "id": "MFdTckk6Ygic"
      },
      "execution_count": null,
      "outputs": []
    }
  ]
}